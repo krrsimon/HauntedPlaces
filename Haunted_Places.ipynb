{
 "cells": [
  {
   "cell_type": "markdown",
   "id": "48fbb896",
   "metadata": {},
   "source": [
    "# Haunted Places\n",
    "'haunted_places.csv' source: https://www.kaggle.com/datasets/sujaykapadnis/haunted-places"
   ]
  },
  {
   "cell_type": "markdown",
   "id": "1a167a9b",
   "metadata": {},
   "source": [
    "# 1. About Us, About the Data, Define Objectives/Questions\n",
    "### Scenario/About Us:\n",
    "- We are working with a company that does haunted tours. Using this data, we will conduct an investigation into the most haunted city/cities which should be invested in by the company.  \n",
    "### About the Data: \n",
    "### Objectives: \n",
    "### Questions:"
   ]
  },
  {
   "cell_type": "markdown",
   "id": "5155846d",
   "metadata": {},
   "source": [
    "### Running ideas:\n",
    "- Possibly use a \"tourism by city\" dataset to supplement this.  \n",
    "- Yelp/TripAdvisor reviews?  \n",
    "\n",
    "- possible questions?:\n",
    "1. What are top cities for paranormal activity?  \n",
    "2. What are the top cities for overall travel/tourism within the US?  \n",
    "3. Can a few cities be chosen so we can come up with proposals of haunted tours in these places?  "
   ]
  },
  {
   "cell_type": "markdown",
   "id": "342bc2e2",
   "metadata": {},
   "source": [
    "# Data Acquisition\n",
    "preview of `haunted_places.csv`:"
   ]
  },
  {
   "cell_type": "code",
   "execution_count": 7,
   "id": "a16bb737",
   "metadata": {},
   "outputs": [
    {
     "data": {
      "text/html": [
       "<div>\n",
       "<style scoped>\n",
       "    .dataframe tbody tr th:only-of-type {\n",
       "        vertical-align: middle;\n",
       "    }\n",
       "\n",
       "    .dataframe tbody tr th {\n",
       "        vertical-align: top;\n",
       "    }\n",
       "\n",
       "    .dataframe thead th {\n",
       "        text-align: right;\n",
       "    }\n",
       "</style>\n",
       "<table border=\"1\" class=\"dataframe\">\n",
       "  <thead>\n",
       "    <tr style=\"text-align: right;\">\n",
       "      <th></th>\n",
       "      <th>city</th>\n",
       "      <th>country</th>\n",
       "      <th>description</th>\n",
       "      <th>location</th>\n",
       "      <th>state</th>\n",
       "      <th>state_abbrev</th>\n",
       "      <th>longitude</th>\n",
       "      <th>latitude</th>\n",
       "      <th>city_longitude</th>\n",
       "      <th>city_latitude</th>\n",
       "    </tr>\n",
       "  </thead>\n",
       "  <tbody>\n",
       "    <tr>\n",
       "      <th>0</th>\n",
       "      <td>Ada</td>\n",
       "      <td>United States</td>\n",
       "      <td>Ada witch - Sometimes you can see a misty blue...</td>\n",
       "      <td>Ada Cemetery</td>\n",
       "      <td>Michigan</td>\n",
       "      <td>MI</td>\n",
       "      <td>-85.504893</td>\n",
       "      <td>42.962106</td>\n",
       "      <td>-85.495480</td>\n",
       "      <td>42.960727</td>\n",
       "    </tr>\n",
       "    <tr>\n",
       "      <th>1</th>\n",
       "      <td>Addison</td>\n",
       "      <td>United States</td>\n",
       "      <td>A little girl was killed suddenly while waitin...</td>\n",
       "      <td>North Adams Rd.</td>\n",
       "      <td>Michigan</td>\n",
       "      <td>MI</td>\n",
       "      <td>-84.381843</td>\n",
       "      <td>41.971425</td>\n",
       "      <td>-84.347168</td>\n",
       "      <td>41.986434</td>\n",
       "    </tr>\n",
       "    <tr>\n",
       "      <th>2</th>\n",
       "      <td>Adrian</td>\n",
       "      <td>United States</td>\n",
       "      <td>If you take Gorman Rd. west towards Sand Creek...</td>\n",
       "      <td>Ghost Trestle</td>\n",
       "      <td>Michigan</td>\n",
       "      <td>MI</td>\n",
       "      <td>-84.035656</td>\n",
       "      <td>41.904538</td>\n",
       "      <td>-84.037166</td>\n",
       "      <td>41.897547</td>\n",
       "    </tr>\n",
       "    <tr>\n",
       "      <th>3</th>\n",
       "      <td>Adrian</td>\n",
       "      <td>United States</td>\n",
       "      <td>In the 1970's, one room, room 211, in the old ...</td>\n",
       "      <td>Siena Heights University</td>\n",
       "      <td>Michigan</td>\n",
       "      <td>MI</td>\n",
       "      <td>-84.017565</td>\n",
       "      <td>41.905712</td>\n",
       "      <td>-84.037166</td>\n",
       "      <td>41.897547</td>\n",
       "    </tr>\n",
       "    <tr>\n",
       "      <th>4</th>\n",
       "      <td>Albion</td>\n",
       "      <td>United States</td>\n",
       "      <td>Kappa Delta Sorority - The Kappa Delta Sororit...</td>\n",
       "      <td>Albion College</td>\n",
       "      <td>Michigan</td>\n",
       "      <td>MI</td>\n",
       "      <td>-84.745177</td>\n",
       "      <td>42.244006</td>\n",
       "      <td>-84.753030</td>\n",
       "      <td>42.243097</td>\n",
       "    </tr>\n",
       "  </tbody>\n",
       "</table>\n",
       "</div>"
      ],
      "text/plain": [
       "      city        country                                        description  \\\n",
       "0      Ada  United States  Ada witch - Sometimes you can see a misty blue...   \n",
       "1  Addison  United States  A little girl was killed suddenly while waitin...   \n",
       "2   Adrian  United States  If you take Gorman Rd. west towards Sand Creek...   \n",
       "3   Adrian  United States  In the 1970's, one room, room 211, in the old ...   \n",
       "4   Albion  United States  Kappa Delta Sorority - The Kappa Delta Sororit...   \n",
       "\n",
       "                   location     state state_abbrev  longitude   latitude  \\\n",
       "0              Ada Cemetery  Michigan           MI -85.504893  42.962106   \n",
       "1           North Adams Rd.  Michigan           MI -84.381843  41.971425   \n",
       "2             Ghost Trestle  Michigan           MI -84.035656  41.904538   \n",
       "3  Siena Heights University  Michigan           MI -84.017565  41.905712   \n",
       "4            Albion College  Michigan           MI -84.745177  42.244006   \n",
       "\n",
       "   city_longitude  city_latitude  \n",
       "0      -85.495480      42.960727  \n",
       "1      -84.347168      41.986434  \n",
       "2      -84.037166      41.897547  \n",
       "3      -84.037166      41.897547  \n",
       "4      -84.753030      42.243097  "
      ]
     },
     "execution_count": 7,
     "metadata": {},
     "output_type": "execute_result"
    }
   ],
   "source": [
    "import pandas as pd\n",
    "haunted_places = pd.read_csv('haunted_places.csv')\n",
    "haunted_places.head()"
   ]
  },
  {
   "cell_type": "code",
   "execution_count": 11,
   "id": "83fc8bb6",
   "metadata": {},
   "outputs": [
    {
     "data": {
      "text/html": [
       "<div>\n",
       "<style scoped>\n",
       "    .dataframe tbody tr th:only-of-type {\n",
       "        vertical-align: middle;\n",
       "    }\n",
       "\n",
       "    .dataframe tbody tr th {\n",
       "        vertical-align: top;\n",
       "    }\n",
       "\n",
       "    .dataframe thead th {\n",
       "        text-align: right;\n",
       "    }\n",
       "</style>\n",
       "<table border=\"1\" class=\"dataframe\">\n",
       "  <thead>\n",
       "    <tr style=\"text-align: right;\">\n",
       "      <th></th>\n",
       "      <th>1</th>\n",
       "      <th>Unfortunately, the frustration of being Dr. Goldberg's patient is a repeat of the experience I've had with so many other doctors in NYC -- good doctor, terrible staff.  It seems that his staff simply never answers the phone.  It usually takes 2 hours of repeated calling to get an answer.  Who has time for that or wants to deal with it?  I have run into this problem with many other doctors and I just don't get it.  You have office workers, you have patients with medical needs, why isn't anyone answering the phone?  It's incomprehensible and not work the aggravation.  It's with regret that I feel that I have to give Dr. Goldberg 2 stars.</th>\n",
       "    </tr>\n",
       "  </thead>\n",
       "  <tbody>\n",
       "    <tr>\n",
       "      <th>0</th>\n",
       "      <td>2</td>\n",
       "      <td>Been going to Dr. Goldberg for over 10 years. ...</td>\n",
       "    </tr>\n",
       "    <tr>\n",
       "      <th>1</th>\n",
       "      <td>1</td>\n",
       "      <td>I don't know what Dr. Goldberg was like before...</td>\n",
       "    </tr>\n",
       "    <tr>\n",
       "      <th>2</th>\n",
       "      <td>1</td>\n",
       "      <td>I'm writing this review to give you a heads up...</td>\n",
       "    </tr>\n",
       "    <tr>\n",
       "      <th>3</th>\n",
       "      <td>2</td>\n",
       "      <td>All the food is great here. But the best thing...</td>\n",
       "    </tr>\n",
       "    <tr>\n",
       "      <th>4</th>\n",
       "      <td>1</td>\n",
       "      <td>Wing sauce is like water. Pretty much a lot of...</td>\n",
       "    </tr>\n",
       "  </tbody>\n",
       "</table>\n",
       "</div>"
      ],
      "text/plain": [
       "   1  \\\n",
       "0  2   \n",
       "1  1   \n",
       "2  1   \n",
       "3  2   \n",
       "4  1   \n",
       "\n",
       "  Unfortunately, the frustration of being Dr. Goldberg's patient is a repeat of the experience I've had with so many other doctors in NYC -- good doctor, terrible staff.  It seems that his staff simply never answers the phone.  It usually takes 2 hours of repeated calling to get an answer.  Who has time for that or wants to deal with it?  I have run into this problem with many other doctors and I just don't get it.  You have office workers, you have patients with medical needs, why isn't anyone answering the phone?  It's incomprehensible and not work the aggravation.  It's with regret that I feel that I have to give Dr. Goldberg 2 stars.  \n",
       "0  Been going to Dr. Goldberg for over 10 years. ...                                                                                                                                                                                                                                                                                                                                                                                                                                                                                                                                                                                                                   \n",
       "1  I don't know what Dr. Goldberg was like before...                                                                                                                                                                                                                                                                                                                                                                                                                                                                                                                                                                                                                   \n",
       "2  I'm writing this review to give you a heads up...                                                                                                                                                                                                                                                                                                                                                                                                                                                                                                                                                                                                                   \n",
       "3  All the food is great here. But the best thing...                                                                                                                                                                                                                                                                                                                                                                                                                                                                                                                                                                                                                   \n",
       "4  Wing sauce is like water. Pretty much a lot of...                                                                                                                                                                                                                                                                                                                                                                                                                                                                                                                                                                                                                   "
      ]
     },
     "execution_count": 11,
     "metadata": {},
     "output_type": "execute_result"
    }
   ],
   "source": [
    "yelp = pd.read_csv('yelp_review_polarity_csv/train.csv')\n",
    "yelp.head()"
   ]
  },
  {
   "cell_type": "code",
   "execution_count": 2,
   "id": "99408350",
   "metadata": {},
   "outputs": [
    {
     "name": "stdout",
     "output_type": "stream",
     "text": [
      "<class 'pandas.core.frame.DataFrame'>\n",
      "RangeIndex: 10992 entries, 0 to 10991\n",
      "Data columns (total 10 columns):\n",
      " #   Column          Non-Null Count  Dtype  \n",
      "---  ------          --------------  -----  \n",
      " 0   city            10989 non-null  object \n",
      " 1   country         10992 non-null  object \n",
      " 2   description     10992 non-null  object \n",
      " 3   location        10989 non-null  object \n",
      " 4   state           10992 non-null  object \n",
      " 5   state_abbrev    10992 non-null  object \n",
      " 6   longitude       9731 non-null   float64\n",
      " 7   latitude        9731 non-null   float64\n",
      " 8   city_longitude  10963 non-null  float64\n",
      " 9   city_latitude   10963 non-null  float64\n",
      "dtypes: float64(4), object(6)\n",
      "memory usage: 858.9+ KB\n"
     ]
    }
   ],
   "source": [
    "haunted_places.info()"
   ]
  },
  {
   "cell_type": "markdown",
   "id": "b3ca6ba0",
   "metadata": {},
   "source": [
    "variables:  \n",
    "`city`: the city where the place is located.  \n",
    "`country`: the country where the place is located (always \"United States\")  \n",
    "`description`: A text description of the place. The amount of detail in these descriptions is highly variable.  \n",
    "`location`: A title for the haunted place.  \n",
    "`state`: The US state where the place is located.  \n",
    "`state_abbrev`: the two-letter abbreviation for the state.  \n",
    "`longitude`: Longitude of the place.  \n",
    "`latitude`: Latitude of the place.  \n",
    "`city_longitude`: Longitude of the city center.  \n",
    "`city_latitude`: Latitude of the city center.  "
   ]
  },
  {
   "cell_type": "markdown",
   "id": "65ee4adf",
   "metadata": {},
   "source": [
    "# Initial Data Exploration\n",
    "1. **check dataset shape**  \n",
    "2. **check data types**  \n",
    "3. **obtain basic statistics for quantitative/numeric columns**\n",
    "4. **check out the unique number and type for categorical columns (where reasonable)**  "
   ]
  },
  {
   "cell_type": "code",
   "execution_count": 4,
   "id": "bd4f2734",
   "metadata": {},
   "outputs": [
    {
     "name": "stdout",
     "output_type": "stream",
     "text": [
      "~~~~~~~~~~~~~~~~~~~~~~~~~~~~~~~~~~~~~~~~~~~~~~~~~~~~~~~~~~~~~~~~~~~~~~~~~~~~~~~~~~~~~~~~~~~~~~~~~~~~~~~~~~\n",
      "There are 10 columns and 10992 rows.\n",
      "~~~~~~~~~~~~~~~~~~~~~~~~~~~~~~~~~~~~~~~~~~~~~~~~~~~~~~~~~~~~~~~~~~~~~~~~~~~~~~~~~~~~~~~~~~~~~~~~~~~~~~~~~~\n",
      "\n"
     ]
    }
   ],
   "source": [
    "# Get the size of the dataset\n",
    "print(\"~~~~~~~~~~~~~~~~~~~~~~~~~~~~~~~~~~~~~~~~~~~~~~~~~~~~~~~~~~~~~~~~~~~~~~~~~~~~~~~~~~~~~~~~~~~~~~~~~~~~~~~~~~\\nThere are \" + str(haunted_places.shape[1]) + \" columns and \" + str(haunted_places.shape[0]) + \" rows.\\n~~~~~~~~~~~~~~~~~~~~~~~~~~~~~~~~~~~~~~~~~~~~~~~~~~~~~~~~~~~~~~~~~~~~~~~~~~~~~~~~~~~~~~~~~~~~~~~~~~~~~~~~~~\\n\")"
   ]
  },
  {
   "cell_type": "code",
   "execution_count": 13,
   "id": "9894afe1",
   "metadata": {},
   "outputs": [
    {
     "data": {
      "text/plain": [
       "city               object\n",
       "country            object\n",
       "description        object\n",
       "location           object\n",
       "state              object\n",
       "state_abbrev       object\n",
       "longitude         float64\n",
       "latitude          float64\n",
       "city_longitude    float64\n",
       "city_latitude     float64\n",
       "dtype: object"
      ]
     },
     "execution_count": 13,
     "metadata": {},
     "output_type": "execute_result"
    }
   ],
   "source": [
    "# Display data types\n",
    "haunted_places.dtypes"
   ]
  },
  {
   "cell_type": "code",
   "execution_count": 14,
   "id": "7536f1bd",
   "metadata": {},
   "outputs": [
    {
     "data": {
      "text/html": [
       "<div>\n",
       "<style scoped>\n",
       "    .dataframe tbody tr th:only-of-type {\n",
       "        vertical-align: middle;\n",
       "    }\n",
       "\n",
       "    .dataframe tbody tr th {\n",
       "        vertical-align: top;\n",
       "    }\n",
       "\n",
       "    .dataframe thead th {\n",
       "        text-align: right;\n",
       "    }\n",
       "</style>\n",
       "<table border=\"1\" class=\"dataframe\">\n",
       "  <thead>\n",
       "    <tr style=\"text-align: right;\">\n",
       "      <th></th>\n",
       "      <th>longitude</th>\n",
       "      <th>latitude</th>\n",
       "      <th>city_longitude</th>\n",
       "      <th>city_latitude</th>\n",
       "    </tr>\n",
       "  </thead>\n",
       "  <tbody>\n",
       "    <tr>\n",
       "      <th>count</th>\n",
       "      <td>9731.000000</td>\n",
       "      <td>9731.000000</td>\n",
       "      <td>10963.000000</td>\n",
       "      <td>10963.000000</td>\n",
       "    </tr>\n",
       "    <tr>\n",
       "      <th>mean</th>\n",
       "      <td>-91.996655</td>\n",
       "      <td>38.342790</td>\n",
       "      <td>-91.909268</td>\n",
       "      <td>38.376575</td>\n",
       "    </tr>\n",
       "    <tr>\n",
       "      <th>std</th>\n",
       "      <td>17.686038</td>\n",
       "      <td>5.259289</td>\n",
       "      <td>16.401246</td>\n",
       "      <td>5.067072</td>\n",
       "    </tr>\n",
       "    <tr>\n",
       "      <th>min</th>\n",
       "      <td>-164.722410</td>\n",
       "      <td>-45.023726</td>\n",
       "      <td>-164.723889</td>\n",
       "      <td>19.575619</td>\n",
       "    </tr>\n",
       "    <tr>\n",
       "      <th>25%</th>\n",
       "      <td>-99.119403</td>\n",
       "      <td>34.676030</td>\n",
       "      <td>-98.493387</td>\n",
       "      <td>34.737780</td>\n",
       "    </tr>\n",
       "    <tr>\n",
       "      <th>50%</th>\n",
       "      <td>-87.231215</td>\n",
       "      <td>39.279584</td>\n",
       "      <td>-87.090277</td>\n",
       "      <td>39.283397</td>\n",
       "    </tr>\n",
       "    <tr>\n",
       "      <th>75%</th>\n",
       "      <td>-80.303764</td>\n",
       "      <td>41.873400</td>\n",
       "      <td>-80.505896</td>\n",
       "      <td>41.847006</td>\n",
       "    </tr>\n",
       "    <tr>\n",
       "      <th>max</th>\n",
       "      <td>168.697269</td>\n",
       "      <td>66.892589</td>\n",
       "      <td>-67.840232</td>\n",
       "      <td>66.898333</td>\n",
       "    </tr>\n",
       "  </tbody>\n",
       "</table>\n",
       "</div>"
      ],
      "text/plain": [
       "         longitude     latitude  city_longitude  city_latitude\n",
       "count  9731.000000  9731.000000    10963.000000   10963.000000\n",
       "mean    -91.996655    38.342790      -91.909268      38.376575\n",
       "std      17.686038     5.259289       16.401246       5.067072\n",
       "min    -164.722410   -45.023726     -164.723889      19.575619\n",
       "25%     -99.119403    34.676030      -98.493387      34.737780\n",
       "50%     -87.231215    39.279584      -87.090277      39.283397\n",
       "75%     -80.303764    41.873400      -80.505896      41.847006\n",
       "max     168.697269    66.892589      -67.840232      66.898333"
      ]
     },
     "execution_count": 14,
     "metadata": {},
     "output_type": "execute_result"
    }
   ],
   "source": [
    "# Display descriptive statistics for numerical columns\n",
    "haunted_places.describe()"
   ]
  },
  {
   "cell_type": "code",
   "execution_count": 25,
   "id": "7c8b3524",
   "metadata": {},
   "outputs": [
    {
     "name": "stdout",
     "output_type": "stream",
     "text": [
      "There are 4385 cities in `city`. \n",
      "There are 1 countries in `country`. \n",
      "There are 51 states in `state`. \n",
      "There are 51 state abbreviations in `state_abbrev`. \n"
     ]
    }
   ],
   "source": [
    "# Display the number of uniques for each categorical column, where it makes sense\n",
    "print(\"There are \" + str(haunted_places['city'].nunique()) + \" cities in `city`. \")\n",
    "print(\"There are \" + str(haunted_places['country'].nunique()) + \" countries in `country`. \")\n",
    "print(\"There are \" + str(haunted_places['state'].nunique()) + \" states in `state`. \")\n",
    "print(\"There are \" + str(haunted_places['state_abbrev'].nunique()) + \" state abbreviations in `state_abbrev`. \")"
   ]
  },
  {
   "cell_type": "markdown",
   "id": "51dcc230",
   "metadata": {},
   "source": [
    "## Here are the findings of the initial exploration:  \n",
    "### Dataset Size: \n",
    "- rows (haunted places): 10992\n",
    "- columns (variables): 10\n",
    "\n",
    "### Data Types:\n",
    "\n",
    "- **Numerical Data (int64 or float64):** `longitude`, `latitude`, `city_longitude`, `city_latitude`\n",
    "- **Categorical Data (object)** `city`, `country`, `state`, `state_abbrev`\n",
    "- **Boolean Data (bool):** none  \n",
    "\n",
    "### Basic Statistics:\n",
    "For the numerical columns:\n",
    "- `longitude`: \n",
    "- `latitude`: \n",
    "- `city_longitude`: \n",
    "- `city_latituce`: "
   ]
  },
  {
   "cell_type": "markdown",
   "id": "4df68862",
   "metadata": {},
   "source": [
    "# Data Cleansing: \n",
    "1. identify **missing values** and decide whether to impute, fill, or drop.\n",
    "\n",
    "2. check for and remove **duplicates**.\n",
    "\n",
    "3. ensure that each column is of the correct **data type**, and convert if not.\n",
    "\n",
    "4. look for **outliers** using statistical methods or visualization.  "
   ]
  },
  {
   "cell_type": "code",
   "execution_count": 5,
   "id": "b08a8205",
   "metadata": {},
   "outputs": [
    {
     "data": {
      "text/html": [
       "<div>\n",
       "<style scoped>\n",
       "    .dataframe tbody tr th:only-of-type {\n",
       "        vertical-align: middle;\n",
       "    }\n",
       "\n",
       "    .dataframe tbody tr th {\n",
       "        vertical-align: top;\n",
       "    }\n",
       "\n",
       "    .dataframe thead th {\n",
       "        text-align: right;\n",
       "    }\n",
       "</style>\n",
       "<table border=\"1\" class=\"dataframe\">\n",
       "  <thead>\n",
       "    <tr style=\"text-align: right;\">\n",
       "      <th></th>\n",
       "      <th>Count Missing</th>\n",
       "      <th>% Missing</th>\n",
       "    </tr>\n",
       "  </thead>\n",
       "  <tbody>\n",
       "    <tr>\n",
       "      <th>city</th>\n",
       "      <td>3</td>\n",
       "      <td>0.027</td>\n",
       "    </tr>\n",
       "    <tr>\n",
       "      <th>location</th>\n",
       "      <td>3</td>\n",
       "      <td>0.027</td>\n",
       "    </tr>\n",
       "    <tr>\n",
       "      <th>longitude</th>\n",
       "      <td>1261</td>\n",
       "      <td>11.472</td>\n",
       "    </tr>\n",
       "    <tr>\n",
       "      <th>latitude</th>\n",
       "      <td>1261</td>\n",
       "      <td>11.472</td>\n",
       "    </tr>\n",
       "    <tr>\n",
       "      <th>city_longitude</th>\n",
       "      <td>29</td>\n",
       "      <td>0.264</td>\n",
       "    </tr>\n",
       "    <tr>\n",
       "      <th>city_latitude</th>\n",
       "      <td>29</td>\n",
       "      <td>0.264</td>\n",
       "    </tr>\n",
       "  </tbody>\n",
       "</table>\n",
       "</div>"
      ],
      "text/plain": [
       "                Count Missing  % Missing\n",
       "city                        3      0.027\n",
       "location                    3      0.027\n",
       "longitude                1261     11.472\n",
       "latitude                 1261     11.472\n",
       "city_longitude             29      0.264\n",
       "city_latitude              29      0.264"
      ]
     },
     "execution_count": 5,
     "metadata": {},
     "output_type": "execute_result"
    }
   ],
   "source": [
    "# Check for missing values\n",
    "missing_values = haunted_places.isnull().sum()\n",
    "\n",
    "# Calculate missing value counts\n",
    "missing_values = pd.DataFrame(missing_values[missing_values > 0])\n",
    "\n",
    "# Calculate missing percent of values for each column\n",
    "missing_pct = ((missing_values/haunted_places.shape[0]*100).round(3))\n",
    "\n",
    "# Add missing count and percent to table\n",
    "missing_values[\"% Missing\"] = missing_pct\n",
    "missing_values.rename(columns={0: 'Count Missing'}, inplace=True)\n",
    "missing_values"
   ]
  },
  {
   "cell_type": "code",
   "execution_count": 42,
   "id": "ceb78a9e",
   "metadata": {},
   "outputs": [
    {
     "data": {
      "text/plain": [
       "<Axes: >"
      ]
     },
     "execution_count": 42,
     "metadata": {},
     "output_type": "execute_result"
    },
    {
     "data": {
      "image/png": "[encoded data removed]",
      "text/plain": [
       "<Figure size 2500x1000 with 2 Axes>"
      ]
     },
     "metadata": {},
     "output_type": "display_data"
    }
   ],
   "source": [
    "# Visualize missing values\n",
    "import missingno as msno\n",
    "msno.matrix(haunted_places)"
   ]
  },
  {
   "cell_type": "markdown",
   "id": "98415e23",
   "metadata": {},
   "source": [
    "**Analyzing missing values:**  \n",
    "columns with missing values:\n",
    "-  `city` and `location` are both missing 3 values each (or 0.027%).  \n",
    "- `longitude` and `latitude` are both missing 1,261 values each (about 11%).  \n",
    "- `city_longitude` and `city_latitude` are both missing 29 values each (about 0.264%).  \n",
    "\n",
    "how we will handle these:\n",
    "- Since `city` and `location` together make up less than 0.06% of data, we can go ahead and drop these.  \n",
    "-  for `longitude` and `latitude`, we will check to see if there exists a corresponding `city_longitude` and `city_latitude` for each. If so, we will grab that value and fill with it. We can do the same but backwards for `city_longitude` and `city_latitude`. Whatever is left, we can drop.  "
   ]
  },
  {
   "cell_type": "markdown",
   "id": "4cd7f6a1",
   "metadata": {},
   "source": [
    "First we drop missing rows in `city` and `location`:"
   ]
  },
  {
   "cell_type": "code",
   "execution_count": 68,
   "id": "87d0b71c",
   "metadata": {},
   "outputs": [
    {
     "data": {
      "text/plain": [
       "city               0\n",
       "country            0\n",
       "description        0\n",
       "location           0\n",
       "state              0\n",
       "state_abbrev       0\n",
       "longitude         15\n",
       "latitude          15\n",
       "city_longitude    15\n",
       "city_latitude     15\n",
       "dtype: int64"
      ]
     },
     "execution_count": 68,
     "metadata": {},
     "output_type": "execute_result"
    }
   ],
   "source": [
    "# Drop NA values from `city`\n",
    "haunted_places.dropna(subset=['city'], inplace=True)\n",
    "\n",
    "# Drop NA values from `location`\n",
    "haunted_places.dropna(subset=['location'], inplace=True)\n",
    "\n",
    "# Display updated missing values\n",
    "haunted_places.isnull().sum()"
   ]
  },
  {
   "cell_type": "markdown",
   "id": "5922aee0",
   "metadata": {},
   "source": [
    "Now, let's try to fill as many `longitude` and `latitude` values as possible using lambda functions. "
   ]
  },
  {
   "cell_type": "code",
   "execution_count": 69,
   "id": "212d30eb",
   "metadata": {},
   "outputs": [
    {
     "name": "stdout",
     "output_type": "stream",
     "text": [
      "There are 15 nulls left in `longitude`.\n",
      "There are 15 nulls left in `latitude`.\n"
     ]
    }
   ],
   "source": [
    "# Iterate through `longitude` and check for missing values \n",
    "haunted_places['longitude'] = haunted_places.apply(\n",
    "    # For each row in `city_longitude` which is filled, fill `longitude` with it, and leave alone otherwise\n",
    "    lambda row: row['city_longitude'] if pd.isnull(row['longitude']) else row['longitude'],\n",
    "    axis=1\n",
    ")\n",
    "\n",
    "# Iterate through `latitude` and check for missing values \n",
    "haunted_places['latitude'] = haunted_places.apply(\n",
    "    # For each row in `city_latitude` which is filled, fill `latitude` with it, and leave alone otherwise\n",
    "    lambda row: row['city_latitude'] if pd.isnull(row['latitude']) else row['latitude'],\n",
    "    axis=1\n",
    ")\n",
    "\n",
    "# print the new count on missing values\n",
    "longitude_remaining = haunted_places['longitude'].isnull().sum()\n",
    "print(\"There are \" + str(longitude_remaining) + \" nulls left in `longitude`.\")\n",
    "latitude_remaining = haunted_places['latitude'].isnull().sum()\n",
    "print(\"There are \" + str(latitude_remaining) + \" nulls left in `latitude`.\")"
   ]
  },
  {
   "cell_type": "markdown",
   "id": "9519bb55",
   "metadata": {},
   "source": [
    "do the same with `city_longitude` and `city_latitude`.  "
   ]
  },
  {
   "cell_type": "code",
   "execution_count": 70,
   "id": "886dd855",
   "metadata": {},
   "outputs": [
    {
     "name": "stdout",
     "output_type": "stream",
     "text": [
      "There are 15 nulls left in `city_longitude`.\n",
      "There are 15 nulls left in `city_latitude`.\n"
     ]
    }
   ],
   "source": [
    "# Iterate through `city_longitude` and check for missing values \n",
    "haunted_places['city_longitude'] = haunted_places.apply(\n",
    "    # For each row in `longitude` which is filled, fill `city_longitude` with it, and leave alone otherwise\n",
    "    lambda row: row['longitude'] if pd.isnull(row['city_longitude']) else row['city_longitude'],\n",
    "    axis=1\n",
    ")\n",
    "\n",
    "# Iterate through `city_latitude` and check for missing values \n",
    "haunted_places['city_latitude'] = haunted_places.apply(\n",
    "    # For each row in `latitude` which is filled, fill `city_latitude` with it, and leave alone otherwise\n",
    "    lambda row: row['latitude'] if pd.isnull(row['city_latitude']) else row['city_latitude'],\n",
    "    axis=1\n",
    ")\n",
    "\n",
    "# print the new count on missing values\n",
    "city_longitude_remaining = haunted_places['city_longitude'].isnull().sum()\n",
    "print(\"There are \" + str(city_longitude_remaining) + \" nulls left in `city_longitude`.\")\n",
    "city_latitude_remaining = haunted_places['city_latitude'].isnull().sum()\n",
    "print(\"There are \" + str(city_latitude_remaining) + \" nulls left in `city_latitude`.\")"
   ]
  },
  {
   "cell_type": "markdown",
   "id": "5a8a3cb3",
   "metadata": {},
   "source": [
    "Both `longitude` and `latitude`, as well as `city_longitude` and `city_latitude` have 15 values left. Let's check them to be sure they are all the same:  "
   ]
  },
  {
   "cell_type": "code",
   "execution_count": 71,
   "id": "eb40c666",
   "metadata": {},
   "outputs": [
    {
     "data": {
      "text/html": [
       "<div>\n",
       "<style scoped>\n",
       "    .dataframe tbody tr th:only-of-type {\n",
       "        vertical-align: middle;\n",
       "    }\n",
       "\n",
       "    .dataframe tbody tr th {\n",
       "        vertical-align: top;\n",
       "    }\n",
       "\n",
       "    .dataframe thead th {\n",
       "        text-align: right;\n",
       "    }\n",
       "</style>\n",
       "<table border=\"1\" class=\"dataframe\">\n",
       "  <thead>\n",
       "    <tr style=\"text-align: right;\">\n",
       "      <th></th>\n",
       "      <th>city</th>\n",
       "      <th>country</th>\n",
       "      <th>description</th>\n",
       "      <th>location</th>\n",
       "      <th>state</th>\n",
       "      <th>state_abbrev</th>\n",
       "      <th>longitude</th>\n",
       "      <th>latitude</th>\n",
       "      <th>city_longitude</th>\n",
       "      <th>city_latitude</th>\n",
       "    </tr>\n",
       "  </thead>\n",
       "  <tbody>\n",
       "    <tr>\n",
       "      <th>643</th>\n",
       "      <td>Darktown</td>\n",
       "      <td>United States</td>\n",
       "      <td>Reports of trolls, Hellhounds, human forms, ac...</td>\n",
       "      <td>\"THE ALAMO\"</td>\n",
       "      <td>Pennsylvania</td>\n",
       "      <td>PA</td>\n",
       "      <td>NaN</td>\n",
       "      <td>NaN</td>\n",
       "      <td>NaN</td>\n",
       "      <td>NaN</td>\n",
       "    </tr>\n",
       "    <tr>\n",
       "      <th>2188</th>\n",
       "      <td>Saddle Community</td>\n",
       "      <td>United States</td>\n",
       "      <td>Old timers tell of a haunting on 9 Mile Ridge ...</td>\n",
       "      <td>9 Mile Ridge</td>\n",
       "      <td>Arkansas</td>\n",
       "      <td>AR</td>\n",
       "      <td>NaN</td>\n",
       "      <td>NaN</td>\n",
       "      <td>NaN</td>\n",
       "      <td>NaN</td>\n",
       "    </tr>\n",
       "    <tr>\n",
       "      <th>2196</th>\n",
       "      <td>Tazlina</td>\n",
       "      <td>United States</td>\n",
       "      <td>The Tazlina Lodge is not in use anymore. Long ...</td>\n",
       "      <td>Tazlina Lodge</td>\n",
       "      <td>Arkansas</td>\n",
       "      <td>AR</td>\n",
       "      <td>NaN</td>\n",
       "      <td>NaN</td>\n",
       "      <td>NaN</td>\n",
       "      <td>NaN</td>\n",
       "    </tr>\n",
       "    <tr>\n",
       "      <th>3660</th>\n",
       "      <td>Fort Defiance</td>\n",
       "      <td>United States</td>\n",
       "      <td>The school gym is haunted by several children ...</td>\n",
       "      <td>Tse Ho Tso Middle School</td>\n",
       "      <td>Alabama</td>\n",
       "      <td>AL</td>\n",
       "      <td>NaN</td>\n",
       "      <td>NaN</td>\n",
       "      <td>NaN</td>\n",
       "      <td>NaN</td>\n",
       "    </tr>\n",
       "    <tr>\n",
       "      <th>4501</th>\n",
       "      <td>Akra/Leroy</td>\n",
       "      <td>United States</td>\n",
       "      <td>it's to be said that a lady has been seen with...</td>\n",
       "      <td>Road between Akra and Leroy</td>\n",
       "      <td>North Dakota</td>\n",
       "      <td>ND</td>\n",
       "      <td>NaN</td>\n",
       "      <td>NaN</td>\n",
       "      <td>NaN</td>\n",
       "      <td>NaN</td>\n",
       "    </tr>\n",
       "    <tr>\n",
       "      <th>4543</th>\n",
       "      <td>Mandan outskirts</td>\n",
       "      <td>United States</td>\n",
       "      <td>The spirit of the wives of the soldiers who we...</td>\n",
       "      <td>Custer House boardwalk</td>\n",
       "      <td>North Dakota</td>\n",
       "      <td>ND</td>\n",
       "      <td>NaN</td>\n",
       "      <td>NaN</td>\n",
       "      <td>NaN</td>\n",
       "      <td>NaN</td>\n",
       "    </tr>\n",
       "    <tr>\n",
       "      <th>5232</th>\n",
       "      <td>Diphtheria Hill</td>\n",
       "      <td>United States</td>\n",
       "      <td>An old cemetery on a hill near Clay Center whe...</td>\n",
       "      <td>Clay Center</td>\n",
       "      <td>Kansas</td>\n",
       "      <td>KS</td>\n",
       "      <td>NaN</td>\n",
       "      <td>NaN</td>\n",
       "      <td>NaN</td>\n",
       "      <td>NaN</td>\n",
       "    </tr>\n",
       "    <tr>\n",
       "      <th>5306</th>\n",
       "      <td>Rural Niotaze</td>\n",
       "      <td>United States</td>\n",
       "      <td>El Cado Cemetery - Witnesses claim to have see...</td>\n",
       "      <td>The Sandhills</td>\n",
       "      <td>Kansas</td>\n",
       "      <td>KS</td>\n",
       "      <td>NaN</td>\n",
       "      <td>NaN</td>\n",
       "      <td>NaN</td>\n",
       "      <td>NaN</td>\n",
       "    </tr>\n",
       "    <tr>\n",
       "      <th>6950</th>\n",
       "      <td>Harpo Studios</td>\n",
       "      <td>United States</td>\n",
       "      <td>Was the sight of a makeshift morgue after the ...</td>\n",
       "      <td>formerly the Chicago armory</td>\n",
       "      <td>Illinois</td>\n",
       "      <td>IL</td>\n",
       "      <td>NaN</td>\n",
       "      <td>NaN</td>\n",
       "      <td>NaN</td>\n",
       "      <td>NaN</td>\n",
       "    </tr>\n",
       "    <tr>\n",
       "      <th>7211</th>\n",
       "      <td>Reedsville</td>\n",
       "      <td>United States</td>\n",
       "      <td>Well as it is told if you go to the bridge and...</td>\n",
       "      <td>Dick Huffman bridge</td>\n",
       "      <td>Indiana</td>\n",
       "      <td>IN</td>\n",
       "      <td>NaN</td>\n",
       "      <td>NaN</td>\n",
       "      <td>NaN</td>\n",
       "      <td>NaN</td>\n",
       "    </tr>\n",
       "    <tr>\n",
       "      <th>7382</th>\n",
       "      <td>West Pittson</td>\n",
       "      <td>United States</td>\n",
       "      <td>The claimed incidents began in 1974 and lasted...</td>\n",
       "      <td>The Smurl Haunting</td>\n",
       "      <td>Indiana</td>\n",
       "      <td>IN</td>\n",
       "      <td>NaN</td>\n",
       "      <td>NaN</td>\n",
       "      <td>NaN</td>\n",
       "      <td>NaN</td>\n",
       "    </tr>\n",
       "    <tr>\n",
       "      <th>7546</th>\n",
       "      <td>USS Siapan</td>\n",
       "      <td>United States</td>\n",
       "      <td>Witnesses report being watched and felt very u...</td>\n",
       "      <td>USS Siapans V-decks</td>\n",
       "      <td>Virginia</td>\n",
       "      <td>VA</td>\n",
       "      <td>NaN</td>\n",
       "      <td>NaN</td>\n",
       "      <td>NaN</td>\n",
       "      <td>NaN</td>\n",
       "    </tr>\n",
       "    <tr>\n",
       "      <th>8350</th>\n",
       "      <td>Merewether</td>\n",
       "      <td>United States</td>\n",
       "      <td>Reports of a spectral the train coming</td>\n",
       "      <td>Lutherville in town</td>\n",
       "      <td>Georgia</td>\n",
       "      <td>GA</td>\n",
       "      <td>NaN</td>\n",
       "      <td>NaN</td>\n",
       "      <td>NaN</td>\n",
       "      <td>NaN</td>\n",
       "    </tr>\n",
       "    <tr>\n",
       "      <th>9654</th>\n",
       "      <td>Pensacola/ Dasanai</td>\n",
       "      <td>United States</td>\n",
       "      <td>In this building sightings are expected becaus...</td>\n",
       "      <td>Crampton Brewery</td>\n",
       "      <td>Florida</td>\n",
       "      <td>FL</td>\n",
       "      <td>NaN</td>\n",
       "      <td>NaN</td>\n",
       "      <td>NaN</td>\n",
       "      <td>NaN</td>\n",
       "    </tr>\n",
       "    <tr>\n",
       "      <th>10555</th>\n",
       "      <td>http://wcco.com/local/St.Paul.caves.2.360190.html</td>\n",
       "      <td>United States</td>\n",
       "      <td>Anyone going into these caves are very foolish...</td>\n",
       "      <td>This is very important. There is an embedded v...</td>\n",
       "      <td>Minnesota</td>\n",
       "      <td>MN</td>\n",
       "      <td>NaN</td>\n",
       "      <td>NaN</td>\n",
       "      <td>NaN</td>\n",
       "      <td>NaN</td>\n",
       "    </tr>\n",
       "  </tbody>\n",
       "</table>\n",
       "</div>"
      ],
      "text/plain": [
       "                                                    city        country  \\\n",
       "643                                             Darktown  United States   \n",
       "2188                                    Saddle Community  United States   \n",
       "2196                                             Tazlina  United States   \n",
       "3660                                       Fort Defiance  United States   \n",
       "4501                                          Akra/Leroy  United States   \n",
       "4543                                    Mandan outskirts  United States   \n",
       "5232                                     Diphtheria Hill  United States   \n",
       "5306                                       Rural Niotaze  United States   \n",
       "6950                                       Harpo Studios  United States   \n",
       "7211                                          Reedsville  United States   \n",
       "7382                                        West Pittson  United States   \n",
       "7546                                          USS Siapan  United States   \n",
       "8350                                          Merewether  United States   \n",
       "9654                                  Pensacola/ Dasanai  United States   \n",
       "10555  http://wcco.com/local/St.Paul.caves.2.360190.html  United States   \n",
       "\n",
       "                                             description  \\\n",
       "643    Reports of trolls, Hellhounds, human forms, ac...   \n",
       "2188   Old timers tell of a haunting on 9 Mile Ridge ...   \n",
       "2196   The Tazlina Lodge is not in use anymore. Long ...   \n",
       "3660   The school gym is haunted by several children ...   \n",
       "4501   it's to be said that a lady has been seen with...   \n",
       "4543   The spirit of the wives of the soldiers who we...   \n",
       "5232   An old cemetery on a hill near Clay Center whe...   \n",
       "5306   El Cado Cemetery - Witnesses claim to have see...   \n",
       "6950   Was the sight of a makeshift morgue after the ...   \n",
       "7211   Well as it is told if you go to the bridge and...   \n",
       "7382   The claimed incidents began in 1974 and lasted...   \n",
       "7546   Witnesses report being watched and felt very u...   \n",
       "8350              Reports of a spectral the train coming   \n",
       "9654   In this building sightings are expected becaus...   \n",
       "10555  Anyone going into these caves are very foolish...   \n",
       "\n",
       "                                                location         state  \\\n",
       "643                                          \"THE ALAMO\"  Pennsylvania   \n",
       "2188                                        9 Mile Ridge      Arkansas   \n",
       "2196                                       Tazlina Lodge      Arkansas   \n",
       "3660                            Tse Ho Tso Middle School       Alabama   \n",
       "4501                         Road between Akra and Leroy  North Dakota   \n",
       "4543                              Custer House boardwalk  North Dakota   \n",
       "5232                                         Clay Center        Kansas   \n",
       "5306                                       The Sandhills        Kansas   \n",
       "6950                         formerly the Chicago armory      Illinois   \n",
       "7211                                 Dick Huffman bridge       Indiana   \n",
       "7382                                  The Smurl Haunting       Indiana   \n",
       "7546                                 USS Siapans V-decks      Virginia   \n",
       "8350                                 Lutherville in town       Georgia   \n",
       "9654                                    Crampton Brewery       Florida   \n",
       "10555  This is very important. There is an embedded v...     Minnesota   \n",
       "\n",
       "      state_abbrev  longitude  latitude  city_longitude  city_latitude  \n",
       "643             PA        NaN       NaN             NaN            NaN  \n",
       "2188            AR        NaN       NaN             NaN            NaN  \n",
       "2196            AR        NaN       NaN             NaN            NaN  \n",
       "3660            AL        NaN       NaN             NaN            NaN  \n",
       "4501            ND        NaN       NaN             NaN            NaN  \n",
       "4543            ND        NaN       NaN             NaN            NaN  \n",
       "5232            KS        NaN       NaN             NaN            NaN  \n",
       "5306            KS        NaN       NaN             NaN            NaN  \n",
       "6950            IL        NaN       NaN             NaN            NaN  \n",
       "7211            IN        NaN       NaN             NaN            NaN  \n",
       "7382            IN        NaN       NaN             NaN            NaN  \n",
       "7546            VA        NaN       NaN             NaN            NaN  \n",
       "8350            GA        NaN       NaN             NaN            NaN  \n",
       "9654            FL        NaN       NaN             NaN            NaN  \n",
       "10555           MN        NaN       NaN             NaN            NaN  "
      ]
     },
     "execution_count": 71,
     "metadata": {},
     "output_type": "execute_result"
    }
   ],
   "source": [
    "haunted_places[haunted_places['longitude'].isnull()]"
   ]
  },
  {
   "cell_type": "markdown",
   "id": "d5299c85",
   "metadata": {},
   "source": [
    "The dataframe shows that there are NaNs for all four columns in question, meaning that these remaining 15 values can now be dropped, now that we know there is no latitude/longitude available to fill in either direction.  "
   ]
  },
  {
   "cell_type": "code",
   "execution_count": 72,
   "id": "37f145c3",
   "metadata": {},
   "outputs": [
    {
     "data": {
      "text/plain": [
       "city              0\n",
       "country           0\n",
       "description       0\n",
       "location          0\n",
       "state             0\n",
       "state_abbrev      0\n",
       "longitude         0\n",
       "latitude          0\n",
       "city_longitude    0\n",
       "city_latitude     0\n",
       "dtype: int64"
      ]
     },
     "execution_count": 72,
     "metadata": {},
     "output_type": "execute_result"
    }
   ],
   "source": [
    "# Drop NA values from longitude\n",
    "haunted_places.dropna(subset=['longitude'], inplace=True)\n",
    "\n",
    "# Display updated missing values\n",
    "haunted_places.isnull().sum()"
   ]
  },
  {
   "cell_type": "markdown",
   "id": "83f72d9e",
   "metadata": {},
   "source": [
    "now that missing values have been handled, we'll check for duplicates. \n"
   ]
  },
  {
   "cell_type": "code",
   "execution_count": 73,
   "id": "aa95748e",
   "metadata": {},
   "outputs": [
    {
     "name": "stdout",
     "output_type": "stream",
     "text": [
      "There are 2 duplicate row(s).\n",
      "\n"
     ]
    },
    {
     "data": {
      "text/html": [
       "<div>\n",
       "<style scoped>\n",
       "    .dataframe tbody tr th:only-of-type {\n",
       "        vertical-align: middle;\n",
       "    }\n",
       "\n",
       "    .dataframe tbody tr th {\n",
       "        vertical-align: top;\n",
       "    }\n",
       "\n",
       "    .dataframe thead th {\n",
       "        text-align: right;\n",
       "    }\n",
       "</style>\n",
       "<table border=\"1\" class=\"dataframe\">\n",
       "  <thead>\n",
       "    <tr style=\"text-align: right;\">\n",
       "      <th></th>\n",
       "      <th>city</th>\n",
       "      <th>country</th>\n",
       "      <th>description</th>\n",
       "      <th>location</th>\n",
       "      <th>state</th>\n",
       "      <th>state_abbrev</th>\n",
       "      <th>longitude</th>\n",
       "      <th>latitude</th>\n",
       "      <th>city_longitude</th>\n",
       "      <th>city_latitude</th>\n",
       "    </tr>\n",
       "  </thead>\n",
       "  <tbody>\n",
       "    <tr>\n",
       "      <th>1445</th>\n",
       "      <td>Chestnut Hill</td>\n",
       "      <td>United States</td>\n",
       "      <td>Students have reported lights along the pathwa...</td>\n",
       "      <td>Pine Manor College</td>\n",
       "      <td>Massachusetts</td>\n",
       "      <td>MA</td>\n",
       "      <td>-71.157477</td>\n",
       "      <td>42.319909</td>\n",
       "      <td>-71.166187</td>\n",
       "      <td>42.330380</td>\n",
       "    </tr>\n",
       "    <tr>\n",
       "      <th>1453</th>\n",
       "      <td>Chestnut Hill</td>\n",
       "      <td>United States</td>\n",
       "      <td>Students have reported lights along the pathwa...</td>\n",
       "      <td>Pine Manor College</td>\n",
       "      <td>Massachusetts</td>\n",
       "      <td>MA</td>\n",
       "      <td>-71.157477</td>\n",
       "      <td>42.319909</td>\n",
       "      <td>-71.166187</td>\n",
       "      <td>42.330380</td>\n",
       "    </tr>\n",
       "    <tr>\n",
       "      <th>6821</th>\n",
       "      <td>Fort Wayne</td>\n",
       "      <td>United States</td>\n",
       "      <td>It is believed that Carroll High School is cur...</td>\n",
       "      <td>Carroll High School</td>\n",
       "      <td>Indiana</td>\n",
       "      <td>IN</td>\n",
       "      <td>-85.192519</td>\n",
       "      <td>41.190347</td>\n",
       "      <td>-85.139351</td>\n",
       "      <td>41.079273</td>\n",
       "    </tr>\n",
       "    <tr>\n",
       "      <th>6824</th>\n",
       "      <td>Fort Wayne</td>\n",
       "      <td>United States</td>\n",
       "      <td>It is believed that Carroll High School is cur...</td>\n",
       "      <td>Carroll High School</td>\n",
       "      <td>Indiana</td>\n",
       "      <td>IN</td>\n",
       "      <td>-85.192519</td>\n",
       "      <td>41.190347</td>\n",
       "      <td>-85.139351</td>\n",
       "      <td>41.079273</td>\n",
       "    </tr>\n",
       "  </tbody>\n",
       "</table>\n",
       "</div>"
      ],
      "text/plain": [
       "               city        country  \\\n",
       "1445  Chestnut Hill  United States   \n",
       "1453  Chestnut Hill  United States   \n",
       "6821     Fort Wayne  United States   \n",
       "6824     Fort Wayne  United States   \n",
       "\n",
       "                                            description             location  \\\n",
       "1445  Students have reported lights along the pathwa...   Pine Manor College   \n",
       "1453  Students have reported lights along the pathwa...   Pine Manor College   \n",
       "6821  It is believed that Carroll High School is cur...  Carroll High School   \n",
       "6824  It is believed that Carroll High School is cur...  Carroll High School   \n",
       "\n",
       "              state state_abbrev  longitude   latitude  city_longitude  \\\n",
       "1445  Massachusetts           MA -71.157477  42.319909      -71.166187   \n",
       "1453  Massachusetts           MA -71.157477  42.319909      -71.166187   \n",
       "6821        Indiana           IN -85.192519  41.190347      -85.139351   \n",
       "6824        Indiana           IN -85.192519  41.190347      -85.139351   \n",
       "\n",
       "      city_latitude  \n",
       "1445      42.330380  \n",
       "1453      42.330380  \n",
       "6821      41.079273  \n",
       "6824      41.079273  "
      ]
     },
     "execution_count": 73,
     "metadata": {},
     "output_type": "execute_result"
    }
   ],
   "source": [
    "# Check for duplicate rows\n",
    "duplicate_rows = haunted_places.duplicated().sum()\n",
    "print(\"There are \" + str(duplicate_rows) + \" duplicate row(s).\\n\")\n",
    "\n",
    "# Get a boolean series indicating which rows are duplicates (including the original rows)\n",
    "duplicate_mask_all = haunted_places.duplicated(keep=False)\n",
    "\n",
    "# Use this mask to filter and display both the original and duplicate rows\n",
    "duplicate_rows_all_df = haunted_places[duplicate_mask_all]\n",
    "duplicate_rows_all_df"
   ]
  },
  {
   "cell_type": "markdown",
   "id": "df11d48e",
   "metadata": {},
   "source": [
    "There are 2 duplicates to remove.  "
   ]
  },
  {
   "cell_type": "code",
   "execution_count": 74,
   "id": "4b01b638",
   "metadata": {},
   "outputs": [
    {
     "name": "stdout",
     "output_type": "stream",
     "text": [
      "There are now 0 duplicate row(s).\n",
      "\n"
     ]
    }
   ],
   "source": [
    "# Remove duplicate rows, if any\n",
    "if duplicate_rows > 0: \n",
    "    haunted_places.drop_duplicates(inplace=True)\n",
    "\n",
    "# Verify that the removal worked\n",
    "duplicate_rows = haunted_places.duplicated().sum()\n",
    "print(\"There are now \" + str(duplicate_rows) + \" duplicate row(s).\\n\")"
   ]
  },
  {
   "cell_type": "markdown",
   "id": "2efc4d32",
   "metadata": {},
   "source": [
    "now let's determine if any data types need conversion.\n"
   ]
  },
  {
   "cell_type": "code",
   "execution_count": 10,
   "id": "89796d1f",
   "metadata": {},
   "outputs": [
    {
     "data": {
      "text/plain": [
       "city               object\n",
       "country            object\n",
       "description        object\n",
       "location           object\n",
       "state              object\n",
       "state_abbrev       object\n",
       "longitude         float64\n",
       "latitude          float64\n",
       "city_longitude    float64\n",
       "city_latitude     float64\n",
       "dtype: object"
      ]
     },
     "execution_count": 10,
     "metadata": {},
     "output_type": "execute_result"
    }
   ],
   "source": [
    "# Display data types for each column\n",
    "haunted_places.dtypes"
   ]
  },
  {
   "cell_type": "markdown",
   "id": "3a85ec44",
   "metadata": {},
   "source": [
    "All data types look good. Next, let's do a quick check for outliers using box plots for each numerical column:"
   ]
  },
  {
   "cell_type": "markdown",
   "id": "c7df250d",
   "metadata": {},
   "source": [
    "# Exploratory Data Analysis\n",
    "\n",
    "### 1. quick feature creation to aid in analysis\n",
    "- Create a set of US regions by mapping states to regions.  \n",
    "\n",
    "\n",
    "### 2. visualization\n",
    "**Univariate**  \n",
    "- Frequency of observations across US regions.  \n",
    "- Map of regions with top n observations.\n",
    "- Frequency of observations across top n states.  \n",
    "- Map of states with top n observations.    \n",
    "- Frequency of observations for top n cities.  \n",
    "- Map of cities with top n observations.  \n",
    "\n",
    "**bivariate**  \n",
    "- Visualize `longitude` vs `latitude` on a map.  \n",
    "- Visualize `city_longitude` vs `city_latitude` on a map.  *Maybe: find out what the difference is between these, and possibly choose one or the other to use if they're similar enough?*  \n",
    "\n",
    "**multivariate**    \n",
    "- Plot either `longitude` and `latituce` or `city_longitude` and `city_latitude` over map of top states.  \n",
    "- Plot either `longitude` and `latituce` or `city_longitude` and `city_latitude` over map of top cities.  \n",
    "\n",
    "### 3. statistical analysis\n",
    "**ANOVA**  \n",
    "- After finding counts for top n regions, states, cities, produce boxplots for each n to visualize the differences.  \n",
    "- Determine if significant difference exists between the mean number of observations for each state and city.  \n",
    "\n",
    "### 4. relationships between variables\n"
   ]
  },
  {
   "cell_type": "markdown",
   "id": "856a9e61",
   "metadata": {},
   "source": [
    "### 2. visualization\n",
    "frequency of observations by `state_abbrev`:"
   ]
  },
  {
   "cell_type": "code",
   "execution_count": 47,
   "id": "12b2d956",
   "metadata": {},
   "outputs": [
    {
     "data": {
      "image/png": "[encoded data removed]",
      "text/plain": [
       "<Figure size 1200x400 with 1 Axes>"
      ]
     },
     "metadata": {},
     "output_type": "display_data"
    }
   ],
   "source": [
    "# Import necessary libraries\n",
    "import matplotlib.pyplot as plt\n",
    "import seaborn as sns\n",
    "\n",
    "# Set up plot and styles\n",
    "f, ax = plt.subplots(figsize=(12, 4))\n",
    "plt.subplots_adjust(hspace=0.3, wspace=0.5)\n",
    "sns.set_style('darkgrid')\n",
    "sns.despine()\n",
    "\n",
    "# Set up filter for states to be in descending order\n",
    "top_states = haunted_places['state_abbrev'].value_counts().head(25).index\n",
    "\n",
    "# establish the plot\n",
    "sns.countplot(x=\"state_abbrev\", data=haunted_places, palette=\"flare_r\", order=top_states, ax=ax)\n",
    "ax.set_title('Top 25 States for Haunted Places', fontsize=12, weight='bold', style='italic', y=1)\n",
    "ax.set_xlabel('State', weight='bold')\n",
    "ax.set_ylabel('Number of Haunted Places', weight='bold')\n",
    "\n",
    "plt.show()\n"
   ]
  },
  {
   "cell_type": "code",
   "execution_count": 36,
   "id": "b614c89b",
   "metadata": {},
   "outputs": [
    {
     "data": {
      "text/plain": [
       "<Axes: xlabel='state_abbrev', ylabel='count'>"
      ]
     },
     "execution_count": 36,
     "metadata": {},
     "output_type": "execute_result"
    },
    {
     "data": {
      "image/png": "[encoded data removed]",
      "text/plain": [
       "<Figure size 1200x400 with 1 Axes>"
      ]
     },
     "metadata": {},
     "output_type": "display_data"
    }
   ],
   "source": [
    "import numpy as np\n",
    "import matplotlib.pyplot as plt\n",
    "import seaborn as sns\n",
    "# Set up plot and styles\n",
    "f, ax = plt.subplots(figsize=(12, 4))\n",
    "plt.subplots_adjust(hspace=0.3, wspace=0.5)\n",
    "sns.set_style('darkgrid')\n",
    "sns.despine()\n",
    "\n",
    "# Number of unique states or bars you want to plot\n",
    "n_colors = len(haunted_places[\"state_abbrev\"].unique())\n",
    "\n",
    "# Create a continuous colormap\n",
    "colormap = plt.cm.Blues\n",
    "\n",
    "# Extract the desired number of colors from the colormap\n",
    "colors = [colormap(i) for i in np.linspace(0.2, 1, n_colors)]\n",
    "\n",
    "sns.countplot(x=\"state_abbrev\", data=haunted_places, palette=colors, order=top_states, ax=ax)\n"
   ]
  },
  {
   "cell_type": "code",
   "execution_count": null,
   "id": "4a03e331",
   "metadata": {},
   "outputs": [],
   "source": []
  }
 ],
 "metadata": {
  "kernelspec": {
   "display_name": "base",
   "language": "python",
   "name": "python3"
  },
  "language_info": {
   "codemirror_mode": {
    "name": "ipython",
    "version": 3
   },
   "file_extension": ".py",
   "mimetype": "text/x-python",
   "name": "python",
   "nbconvert_exporter": "python",
   "pygments_lexer": "ipython3",
   "version": "3.11.4"
  }
 },
 "nbformat": 4,
 "nbformat_minor": 5
}
